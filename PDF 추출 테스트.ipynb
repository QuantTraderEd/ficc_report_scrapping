{
 "cells": [
  {
   "cell_type": "code",
   "execution_count": 1,
   "metadata": {},
   "outputs": [],
   "source": [
    "import os"
   ]
  },
  {
   "cell_type": "code",
   "execution_count": 4,
   "metadata": {},
   "outputs": [],
   "source": [
    "import PyPDF2"
   ]
  },
  {
   "cell_type": "code",
   "execution_count": 14,
   "metadata": {},
   "outputs": [
    {
     "data": {
      "text/plain": [
       "'3.0.0'"
      ]
     },
     "execution_count": 14,
     "metadata": {},
     "output_type": "execute_result"
    }
   ],
   "source": [
    "PyPDF2.__version__"
   ]
  },
  {
   "cell_type": "code",
   "execution_count": 17,
   "metadata": {},
   "outputs": [],
   "source": [
    "import pypdf"
   ]
  },
  {
   "cell_type": "code",
   "execution_count": 18,
   "metadata": {},
   "outputs": [
    {
     "data": {
      "text/plain": [
       "'3.1.0'"
      ]
     },
     "execution_count": 18,
     "metadata": {},
     "output_type": "execute_result"
    }
   ],
   "source": [
    "pypdf.__version__"
   ]
  },
  {
   "cell_type": "code",
   "execution_count": 29,
   "metadata": {},
   "outputs": [],
   "source": [
    "import tika"
   ]
  },
  {
   "cell_type": "code",
   "execution_count": 30,
   "metadata": {},
   "outputs": [
    {
     "data": {
      "text/plain": [
       "'1.24'"
      ]
     },
     "execution_count": 30,
     "metadata": {},
     "output_type": "execute_result"
    }
   ],
   "source": [
    "tika.__version__"
   ]
  },
  {
   "cell_type": "code",
   "execution_count": 35,
   "metadata": {},
   "outputs": [
    {
     "name": "stdout",
     "output_type": "stream",
     "text": [
      "Collecting PyMuPDF\n",
      "\u001b[?25l  Downloading https://files.pythonhosted.org/packages/5a/d2/8b1f0e87bf230b55b94e8dbccbf9c44fdfecc46461f8727d11b4b45861af/PyMuPDF-1.21.1-cp37-cp37m-macosx_10_9_x86_64.whl (12.7MB)\n",
      "\u001b[K    100% |████████████████████████████████| 12.7MB 1.5MB/s eta 0:00:01\n",
      "\u001b[31mtwisted 18.7.0 requires PyHamcrest>=1.9.0, which is not installed.\u001b[0m\n",
      "\u001b[31mselenium 4.4.0 has requirement urllib3[secure,socks]~=1.26, but you'll have urllib3 1.23 which is incompatible.\u001b[0m\n",
      "\u001b[31mpyppeteer 1.0.2 has requirement certifi>=2021, but you'll have certifi 2018.8.24 which is incompatible.\u001b[0m\n",
      "\u001b[31mpyppeteer 1.0.2 has requirement urllib3<2.0.0,>=1.25.8, but you'll have urllib3 1.23 which is incompatible.\u001b[0m\n",
      "\u001b[?25hInstalling collected packages: PyMuPDF\n",
      "Successfully installed PyMuPDF-1.21.1\n",
      "\u001b[33mYou are using pip version 10.0.1, however version 22.3.1 is available.\n",
      "You should consider upgrading via the 'pip install --upgrade pip' command.\u001b[0m\n"
     ]
    }
   ],
   "source": [
    "!pip install PyMuPDF"
   ]
  },
  {
   "cell_type": "code",
   "execution_count": 36,
   "metadata": {},
   "outputs": [],
   "source": [
    "import fitz # PyMuPDF"
   ]
  },
  {
   "cell_type": "code",
   "execution_count": 39,
   "metadata": {},
   "outputs": [],
   "source": [
    "# fitz.__version__"
   ]
  },
  {
   "cell_type": "code",
   "execution_count": 40,
   "metadata": {},
   "outputs": [
    {
     "name": "stdout",
     "output_type": "stream",
     "text": [
      "Collecting pypdfium2\n",
      "\u001b[?25l  Downloading https://files.pythonhosted.org/packages/b1/00/84cd8b91f9f84313cab0252e46e1acd8aa585e9ddfc98a4071b3c1015a49/pypdfium2-3.15.0-py3-none-macosx_10_13_x86_64.macosx_11_0_x86_64.macosx_12_0_x86_64.whl (2.9MB)\n",
      "\u001b[K    100% |████████████████████████████████| 2.9MB 9.5MB/s eta 0:00:01    54% |█████████████████▍              | 1.5MB 29.0MB/s eta 0:00:01\n",
      "\u001b[31mtwisted 18.7.0 requires PyHamcrest>=1.9.0, which is not installed.\u001b[0m\n",
      "\u001b[31mselenium 4.4.0 has requirement urllib3[secure,socks]~=1.26, but you'll have urllib3 1.23 which is incompatible.\u001b[0m\n",
      "\u001b[31mpyppeteer 1.0.2 has requirement certifi>=2021, but you'll have certifi 2018.8.24 which is incompatible.\u001b[0m\n",
      "\u001b[31mpyppeteer 1.0.2 has requirement urllib3<2.0.0,>=1.25.8, but you'll have urllib3 1.23 which is incompatible.\u001b[0m\n",
      "\u001b[?25hInstalling collected packages: pypdfium2\n",
      "Successfully installed pypdfium2-3.15.0\n",
      "\u001b[33mYou are using pip version 10.0.1, however version 22.3.1 is available.\n",
      "You should consider upgrading via the 'pip install --upgrade pip' command.\u001b[0m\n"
     ]
    }
   ],
   "source": [
    "!pip install pypdfium2"
   ]
  },
  {
   "cell_type": "code",
   "execution_count": 41,
   "metadata": {},
   "outputs": [],
   "source": [
    "import pypdfium2 as pdfium"
   ]
  },
  {
   "cell_type": "code",
   "execution_count": 43,
   "metadata": {},
   "outputs": [],
   "source": [
    "# pdfium.__version__"
   ]
  },
  {
   "cell_type": "markdown",
   "metadata": {},
   "source": [
    "## [PDF 텍스트 추출 밴치마크](https://github.com/py-pdf/benchmarks, \"PDF 텍스트 추출 밴치마크\")"
   ]
  },
  {
   "cell_type": "code",
   "execution_count": 6,
   "metadata": {},
   "outputs": [
    {
     "data": {
      "text/plain": [
       "['Eugenes FICC Update(2022.12.28)_유진투자증권__22.12.28.pdf',\n",
       " 'Eugenes FICC Update(2022.12.21)_유진투자증권__22.12.21.pdf',\n",
       " '진군가(進軍歌)_신한투자증권__22.12.29.pdf',\n",
       " '채권 Daily (12.23)_유안타증권__22.12.23.pdf',\n",
       " '신한 Bond.Zip (12월 23일)_신한투자증권__22.12.23.pdf',\n",
       " '[Hanwha FI Weekly] 2023년 연준: 온건파가 주류로 등.._한화투자증권__22.12.26.pdf',\n",
       " 'Eugenes FICC Update(2022.12.27)_유진투자증권__22.12.27.pdf',\n",
       " '달러, 약보합_키움증권__22.12.28.pdf',\n",
       " 'ESG적응(Adaptation)_하나증권__22.12.23.pdf',\n",
       " 'Eugenes FICC Update(2022.12.29)_유진투자증권__22.12.29.pdf',\n",
       " '달러, 금리 상승 속 강세_키움증권__22.12.29.pdf',\n",
       " '마지막 주에 확인할 2가지_신한투자증권__22.12.26.pdf',\n",
       " '아직은 우량물에 집중할 시기_신한투자증권__22.12.26.pdf',\n",
       " '채권 Daily (12.26)_유안타증권__22.12.26.pdf',\n",
       " '채권 Daily (12.29)_유안타증권__22.12.29.pdf',\n",
       " 'Eugenes FICC Update(2022.12.26)_유진투자증권__22.12.26.pdf',\n",
       " '채권 Daily (12.27)_유안타증권__22.12.27.pdf',\n",
       " '채권 Daily (12.28)_유안타증권__22.12.28.pdf',\n",
       " 'Eugenes FICC Update(2022.12.23)_유진투자증권__22.12.23.pdf',\n",
       " '엔화, 연휴 휴장으로 변동성 제한_키움증권__22.12.27.pdf',\n",
       " 'KIWOOM ESG Weekly_키움증권__22.12.26.pdf',\n",
       " '서는 곳이 바뀌면 풍경도 달라진다_신한투자증권__22.12.29.pdf',\n",
       " '채권 Daily (12.21)_유안타증권__22.12.21.pdf',\n",
       " '글로벌 긴축 공조 여파_신한투자증권__22.12.26.pdf',\n",
       " 'Eugenes FICC Update(2022.12.22)_유진투자증권__22.12.22.pdf',\n",
       " '달러, 약보합_키움증권__22.12.26.pdf',\n",
       " 'Kiwoom Fixed Income Weekly Review_키움증권__22.12.26.pdf',\n",
       " '채권 Daily (12.22)_유안타증권__22.12.22.pdf',\n",
       " '확률로 보는 연초효과_하나증권__22.12.29.pdf',\n",
       " '1월은 괴리가 좁혀지는 시간_신한투자증권__22.12.29.pdf']"
      ]
     },
     "execution_count": 6,
     "metadata": {},
     "output_type": "execute_result"
    }
   ],
   "source": [
    "file_list = os.listdir('./pdf')\n",
    "file_list"
   ]
  },
  {
   "cell_type": "code",
   "execution_count": 7,
   "metadata": {},
   "outputs": [],
   "source": [
    "filename = file_list[0]"
   ]
  },
  {
   "cell_type": "markdown",
   "metadata": {},
   "source": [
    "## 1. PyMuPDF 사용 텍스트추출"
   ]
  },
  {
   "cell_type": "code",
   "execution_count": 38,
   "metadata": {},
   "outputs": [
    {
     "name": "stdout",
     "output_type": "stream",
     "text": [
      "자료 출처: 연합인포맥스, Refinitiv, 유진투자증권 \n",
      "본 자료는 참고용 자료일 뿐이고, 특정주식에 대한 투자목적으로 작성된 것이 아닙니다. 본 자료는 담당자가 신뢰할 만하다고 판단하는 자료나 정보에 근거하여 작성되었지만, 그 정확성이나 완전성을 보장할 수는 없습니다. 따라서 본 자료를 참고한 고객의 투자의사 결정은 고객 자신의 판단과 책임아래 이루어져야 하고, 당사는 본 자료의 내용에 의존하여 행하여진 일체의 투자행위의  \n",
      "결과에 대하여 책임을 지지 않을 것임을 밝힙니다. 아울러 본 자료는 당사 고객에게만 제공되는 자료로서 당사의 동의 없이 본 자료를 무단으로 복제/전송/인용/배포하는 행위는 법으로 금지되어 있습니다 \n",
      "  Eugene’s FICC Update (2022.12.28) \n",
      "Fixed Income 김지나_ 02)368-6149_ jnkim0526@eugenefn.com  Economist 이정훈_ 02)368-6176_ jhoonlee@eugenefn.com \n",
      " \n",
      " \n",
      " \n",
      " \n",
      "Fixed Income \n",
      "(단위: %,bp, 틱) \n",
      " \n",
      "외국인 3년 국채선물(KTB) 수급 \n",
      " \n",
      "외국인 10년 국채선물(LKTB) 수급 \n",
      " \n",
      " \n",
      "12/27일 \n",
      "1D \n",
      "1W \n",
      "YTD \n",
      "국내\n",
      "채권 \n",
      "한국 국고채 3년물 \n",
      "3.662% \n",
      "-0.1 \n",
      "-2.3 \n",
      "186.4 \n",
      "한국 국고채 10년물 \n",
      "3.611% \n",
      "-2.8 \n",
      "0.8 \n",
      "136.1 \n",
      "장단기금리차(10년-3년,bp) \n",
      "-5.1 \n",
      "-2.4 \n",
      "-8.2 \n",
      "45.2 \n",
      "3년 국채 선물(KTB) \n",
      "103.77 \n",
      "3.0 \n",
      "6.0 \n",
      "-534 \n",
      "10년 국채선물(LKTB) \n",
      "111.35 \n",
      "30.0 \n",
      "-5.0 \n",
      "-1293 \n",
      "해외\n",
      "채권 \n",
      "미국채 2년물 \n",
      "4.400% \n",
      "8.5 \n",
      "14.7 \n",
      "367.4 \n",
      "미국채 10년물 \n",
      "3.845% \n",
      "9.8 \n",
      "15.7 \n",
      "233.3 \n",
      "장단기금리차(10년-2년,bp) \n",
      "-55.5 \n",
      "-56.8 \n",
      "-56.5 \n",
      "78.6 \n",
      "독일국채 10년물 \n",
      "2.382% \n",
      "0.0 \n",
      "8.2 \n",
      "256.3 \n",
      "호주국채 10년물 \n",
      "3.834% \n",
      "0.0 \n",
      "10.5 \n",
      "216.2 \n",
      " \n",
      " \n",
      " \n",
      " \n",
      " \n",
      " \n",
      " \n",
      " \n",
      " \n",
      " \n",
      "일간 금리 등락 폭 & 커브 \n",
      " \n",
      "국내 채권시장 동향 \n",
      " \n",
      "전망 및 향후 주요 이벤트 \n",
      " \n",
      " \n",
      " 국내 채권시장은 전일 약세에 대한 되돌림 영향에 전반\n",
      "적 강세 마감. \n",
      " 한은에서 발표한 12월 소비자동향조사(12/27일)에서 \n",
      "기대인플레이션이 3.8%로 반년 만에 3%대를 나타냈\n",
      "고, 기획재정부도 같은날 1.7조원의 바이백 시행. \n",
      " 단기 구간 호재에도 불구하고 3년 국채선물은 보합 수\n",
      "준에 머문 반면, 외국인 순매수 움직임에 10년 국채선\n",
      "물이 강세. \n",
      " 연말 얇은 유동성 하에서 외국인 수급에 따른 영향은 \n",
      "있겠지만, 대체적으로 관망세 이어질 전망. \n",
      " \n",
      " \n",
      "미국 채권시장은 내년 연착륙 전망 및 연휴 휴장 영향\n",
      "으로 약세 마감. \n",
      " \n",
      "지난주(12/23일) 발표된 11월 개인소비지출(PCE) 물\n",
      "가 지수가 완화되면서 인플레이션 경계심이 완화됨. \n",
      "내년 미국 경제가 침체를 피할 수 있을 것이라는 긍정\n",
      "적 전망이 주목 받으며 국채수익률 상승. \n",
      " \n",
      "여기에 더해 내년 미 연준 금리 인상 기조 지속 전망\n",
      "에 국채수익률 상승폭 확대. \n",
      " \n",
      "금일 미국 12월 리치몬드연은 제조업지수, 11월 잠정\n",
      "주택판매지수 등 발표 예정. \n",
      "-10\n",
      "-4\n",
      "2\n",
      "8\n",
      "14\n",
      "20\n",
      "100\n",
      "102\n",
      "104\n",
      "106\n",
      "108\n",
      "110\n",
      "112\n",
      "21.9\n",
      "21.12\n",
      "22.3\n",
      "22.6\n",
      "22.9\n",
      "22.12\n",
      "(만계약)\n",
      "(p)\n",
      "KTB 국채선물가격(좌)\n",
      "외국인 KTB 국채선물 누적순매수(우)\n",
      "-2\n",
      "0\n",
      "2\n",
      "4\n",
      "6\n",
      "8\n",
      "10\n",
      "12\n",
      "102\n",
      "106\n",
      "110\n",
      "114\n",
      "118\n",
      "122\n",
      "126\n",
      "130\n",
      "21.9\n",
      "21.12\n",
      "22.3\n",
      "22.6\n",
      "22.9\n",
      "22.12\n",
      "(만계약)\n",
      "(p)\n",
      "LKTB 국채선물가격(좌)\n",
      "외국인 LKTB 국채선물 누적순매수(우)\n",
      "-2.8 \n",
      "-0.1 \n",
      "1.0 \n",
      "-2.8 \n",
      "-3.4 \n",
      "-3.7 \n",
      "3.0\n",
      "3.2\n",
      "3.4\n",
      "3.6\n",
      "3.8\n",
      "4.0\n",
      "-4\n",
      "-3\n",
      "-2\n",
      "-1\n",
      "0\n",
      "1\n",
      "2\n",
      "통안 2Y\n",
      "3Y\n",
      "5Y\n",
      "10Y\n",
      "20Y\n",
      "30Y\n",
      "(%)\n",
      "(bp)\n",
      "등락 폭(12/27-12/26, 좌)\n",
      "12/27(우)\n",
      "12/26(우)\n",
      " \n",
      " \n",
      " \n",
      "  \n",
      "  \n",
      "FX & Commodity \n",
      "(단위: %, $) \n",
      " \n",
      "원달러 환율 및 위안달러 환율 동향 \n",
      " \n",
      "원달러 환율 및 달러지수 동향 \n",
      " \n",
      " \n",
      "12/27일 \n",
      "1D \n",
      "1W \n",
      "YTD \n",
      "환율 \n",
      "원/달러 \n",
      "1,271.40  \n",
      "-0.3% \n",
      "-1.4% \n",
      "6.9% \n",
      "달러지수 \n",
      "104.19  \n",
      "0.0% \n",
      "0.1% \n",
      "8.9% \n",
      "달러/유로 \n",
      "1.064  \n",
      "0.1% \n",
      "0.2% \n",
      "-6.5% \n",
      "위안/달러(역외) \n",
      "6.97  \n",
      "-0.1% \n",
      "0.1% \n",
      "9.5% \n",
      "엔/달러 \n",
      "133.56  \n",
      "0.5% \n",
      "1.4% \n",
      "16.0% \n",
      "달러/파운드 \n",
      "1.203  \n",
      "-0.3% \n",
      "-1.2% \n",
      "-11.1% \n",
      "헤알/달러 \n",
      "5.29  \n",
      "1.5% \n",
      "1.7% \n",
      "-5.0% \n",
      "상품 \n",
      "WTI 근월물($) \n",
      "79.87  \n",
      "0.4% \n",
      "6.2% \n",
      "6.2% \n",
      "금 현물($) \n",
      "1,797.82  \n",
      "0.3% \n",
      "0.3% \n",
      "-1.7% \n",
      "구리 3개월물($) \n",
      "8,349.50  \n",
      "0.5% \n",
      "1.0% \n",
      "-14.4% \n",
      " 주: 구리가격은 2거래일 전 기준 \n",
      " \n",
      " \n",
      " \n",
      " \n",
      " \n",
      " \n",
      " \n",
      " \n",
      " \n",
      "원달러 환율 및 홍콩증시 동향 \n",
      " \n",
      "원달러 환율 동향 \n",
      " \n",
      "전망 및 관전 포인트 \n",
      " \n",
      " \n",
      " 전일 원달러 환율은 -3.8원 하락한 1,271.00원에 마감. \n",
      " 중국 방역 조치 완화 발표로 위안화가 강세를 보이면서 \n",
      "원화도 동반 강세. 중국은 다음달 8일부터 해외 입국자\n",
      "에 대한 격리를 해제하기로 결정. 최근 중국 내 코로나 \n",
      "확산세가 급증하고 있지만 방역 조치 완화로 위험 선호 \n",
      "심리는 회복되고 있음. \n",
      " 위안화 강세와 함께 달러 하락. 연말 네고 물량 출회 속\n",
      "에 6월 중순 이후 처음으로 장중 1,270원을 하회.  \n",
      " 코스피는 +0.7% 상승했으며, 외국인은 국내 주식시장\n",
      "에서 1,500억 가량 순매수. \n",
      " \n",
      " \n",
      "금일 새벽 달러 인덱스는 미국채 금리 급등 속 혼조세\n",
      "를 이어감. \n",
      " \n",
      "연말을 맞아 거래가 부진한 가운데 관망 심리가 지배\n",
      "적. 전일 중국의 방역조치 완화에 위험선호 심리 회복\n",
      "되며 장중 103선 후반으로 반락했으나 간밤 미국채 \n",
      "금리가 +10bp 넘게 급등하면서 달러도 104선으로 반\n",
      "등. \n",
      " \n",
      "미국 11월 무역적자는 -15.6%(M) 급감한 -833억 달\n",
      "러로, 2년 만의 최저 수준의 적자를 기록. 10월 S&P CS \n",
      "전미주택가격은 -0.5%(M) 하락해 4개월 연속 하락. \n",
      "11월 댈러스 연은 제조업지수도 -18.8로 전월비 추가 \n",
      "하락했음. \n",
      "6.2\n",
      "6.4\n",
      "6.6\n",
      "6.8\n",
      "7.0\n",
      "7.2\n",
      "7.4\n",
      "7.6\n",
      "1,150\n",
      "1,200\n",
      "1,250\n",
      "1,300\n",
      "1,350\n",
      "1,400\n",
      "1,450\n",
      "1,500\n",
      "22.1\n",
      "22.3\n",
      "22.5\n",
      "22.7\n",
      "22.9\n",
      "22.11\n",
      "(위안/달러)\n",
      "(원/달러)\n",
      "원달러(좌)\n",
      "위안달러(우)\n",
      "90\n",
      "95\n",
      "100\n",
      "105\n",
      "110\n",
      "115\n",
      "120\n",
      "1,150\n",
      "1,200\n",
      "1,250\n",
      "1,300\n",
      "1,350\n",
      "1,400\n",
      "1,450\n",
      "1,500\n",
      "22.1\n",
      "22.3\n",
      "22.5\n",
      "22.7\n",
      "22.9 22.11\n",
      "(지수)\n",
      "(원/달러)\n",
      "원달러(좌)\n",
      "달러지수(우)\n",
      "12,000\n",
      "14,000\n",
      "16,000\n",
      "18,000\n",
      "20,000\n",
      "22,000\n",
      "24,000\n",
      "26,000\n",
      "1,150\n",
      "1,200\n",
      "1,250\n",
      "1,300\n",
      "1,350\n",
      "1,400\n",
      "1,450\n",
      "1,500\n",
      "22.1\n",
      "22.3\n",
      "22.5\n",
      "22.7\n",
      "22.9 22.11\n",
      "(pt, 축반전)\n",
      "(원/달러)\n",
      "원달러(좌)\n",
      "항셍지수(우)\n",
      "\n"
     ]
    }
   ],
   "source": [
    "# import fitz # install using: pip install PyMuPDF\n",
    "\n",
    "with fitz.open(\"./pdf/\" + filename) as doc:\n",
    "    text = \"\"\n",
    "    for page in doc:\n",
    "        text += page.get_text()\n",
    "\n",
    "print(text)"
   ]
  },
  {
   "cell_type": "markdown",
   "metadata": {},
   "source": [
    "## 2. tika 사용 텍스트 추출"
   ]
  },
  {
   "cell_type": "code",
   "execution_count": 33,
   "metadata": {},
   "outputs": [],
   "source": [
    "tika.initVM()\n",
    "from tika import parser"
   ]
  },
  {
   "cell_type": "code",
   "execution_count": 34,
   "metadata": {},
   "outputs": [
    {
     "name": "stderr",
     "output_type": "stream",
     "text": [
      "2022-12-29 17:18:35,656 [MainThread  ] [INFO ]  Retrieving http://search.maven.org/remotecontent?filepath=org/apache/tika/tika-server/1.24/tika-server-1.24.jar to /var/folders/qy/bkj5b1f51xv5y6gwly1w769c0000gn/T/tika-server.jar.\n"
     ]
    },
    {
     "ename": "KeyboardInterrupt",
     "evalue": "",
     "output_type": "error",
     "traceback": [
      "\u001b[0;31m---------------------------------------------------------------------------\u001b[0m",
      "\u001b[0;31mKeyboardInterrupt\u001b[0m                         Traceback (most recent call last)",
      "\u001b[0;32m<ipython-input-34-c5e2e63f4a2e>\u001b[0m in \u001b[0;36m<module>\u001b[0;34m()\u001b[0m\n\u001b[0;32m----> 1\u001b[0;31m \u001b[0mraw\u001b[0m \u001b[0;34m=\u001b[0m \u001b[0mparser\u001b[0m\u001b[0;34m.\u001b[0m\u001b[0mfrom_file\u001b[0m\u001b[0;34m(\u001b[0m\u001b[0;34m'./pdf/'\u001b[0m \u001b[0;34m+\u001b[0m \u001b[0mfilename\u001b[0m\u001b[0;34m)\u001b[0m\u001b[0;34m\u001b[0m\u001b[0m\n\u001b[0m\u001b[1;32m      2\u001b[0m \u001b[0mprint\u001b[0m\u001b[0;34m(\u001b[0m\u001b[0mraw\u001b[0m\u001b[0;34m[\u001b[0m\u001b[0;34m'content'\u001b[0m\u001b[0;34m]\u001b[0m\u001b[0;34m)\u001b[0m\u001b[0;34m\u001b[0m\u001b[0m\n",
      "\u001b[0;32m~/.pyenv/versions/anaconda3-5.3.1/lib/python3.7/site-packages/tika/parser.py\u001b[0m in \u001b[0;36mfrom_file\u001b[0;34m(filename, serverEndpoint, service, xmlContent, headers, config_path, requestOptions)\u001b[0m\n\u001b[1;32m     38\u001b[0m     '''\n\u001b[1;32m     39\u001b[0m     \u001b[0;32mif\u001b[0m \u001b[0;32mnot\u001b[0m \u001b[0mxmlContent\u001b[0m\u001b[0;34m:\u001b[0m\u001b[0;34m\u001b[0m\u001b[0m\n\u001b[0;32m---> 40\u001b[0;31m         \u001b[0moutput\u001b[0m \u001b[0;34m=\u001b[0m \u001b[0mparse1\u001b[0m\u001b[0;34m(\u001b[0m\u001b[0mservice\u001b[0m\u001b[0;34m,\u001b[0m \u001b[0mfilename\u001b[0m\u001b[0;34m,\u001b[0m \u001b[0mserverEndpoint\u001b[0m\u001b[0;34m,\u001b[0m \u001b[0mheaders\u001b[0m\u001b[0;34m=\u001b[0m\u001b[0mheaders\u001b[0m\u001b[0;34m,\u001b[0m \u001b[0mconfig_path\u001b[0m\u001b[0;34m=\u001b[0m\u001b[0mconfig_path\u001b[0m\u001b[0;34m,\u001b[0m \u001b[0mrequestOptions\u001b[0m\u001b[0;34m=\u001b[0m\u001b[0mrequestOptions\u001b[0m\u001b[0;34m)\u001b[0m\u001b[0;34m\u001b[0m\u001b[0m\n\u001b[0m\u001b[1;32m     41\u001b[0m     \u001b[0;32melse\u001b[0m\u001b[0;34m:\u001b[0m\u001b[0;34m\u001b[0m\u001b[0m\n\u001b[1;32m     42\u001b[0m         output = parse1(service, filename, serverEndpoint, services={'meta': '/meta', 'text': '/tika', 'all': '/rmeta/xml'},\n",
      "\u001b[0;32m~/.pyenv/versions/anaconda3-5.3.1/lib/python3.7/site-packages/tika/tika.py\u001b[0m in \u001b[0;36mparse1\u001b[0;34m(option, urlOrPath, serverEndpoint, verbose, tikaServerJar, responseMimeType, services, rawResponse, headers, config_path, requestOptions)\u001b[0m\n\u001b[1;32m    336\u001b[0m         status, response = callServer('put', serverEndpoint, service, f,\n\u001b[1;32m    337\u001b[0m                                       \u001b[0mheaders\u001b[0m\u001b[0;34m,\u001b[0m \u001b[0mverbose\u001b[0m\u001b[0;34m,\u001b[0m \u001b[0mtikaServerJar\u001b[0m\u001b[0;34m,\u001b[0m \u001b[0mconfig_path\u001b[0m\u001b[0;34m=\u001b[0m\u001b[0mconfig_path\u001b[0m\u001b[0;34m,\u001b[0m\u001b[0;34m\u001b[0m\u001b[0m\n\u001b[0;32m--> 338\u001b[0;31m                                       rawResponse=rawResponse, requestOptions=requestOptions)\n\u001b[0m\u001b[1;32m    339\u001b[0m \u001b[0;34m\u001b[0m\u001b[0m\n\u001b[1;32m    340\u001b[0m     \u001b[0;32mif\u001b[0m \u001b[0mfile_type\u001b[0m \u001b[0;34m==\u001b[0m \u001b[0;34m'remote'\u001b[0m\u001b[0;34m:\u001b[0m \u001b[0mos\u001b[0m\u001b[0;34m.\u001b[0m\u001b[0munlink\u001b[0m\u001b[0;34m(\u001b[0m\u001b[0mpath\u001b[0m\u001b[0;34m)\u001b[0m\u001b[0;34m\u001b[0m\u001b[0m\n",
      "\u001b[0;32m~/.pyenv/versions/anaconda3-5.3.1/lib/python3.7/site-packages/tika/tika.py\u001b[0m in \u001b[0;36mcallServer\u001b[0;34m(verb, serverEndpoint, service, data, headers, verbose, tikaServerJar, httpVerbs, classpath, rawResponse, config_path, requestOptions)\u001b[0m\n\u001b[1;32m    529\u001b[0m     \u001b[0;32mglobal\u001b[0m \u001b[0mTikaClientOnly\u001b[0m\u001b[0;34m\u001b[0m\u001b[0m\n\u001b[1;32m    530\u001b[0m     \u001b[0;32mif\u001b[0m \u001b[0;32mnot\u001b[0m \u001b[0mTikaClientOnly\u001b[0m\u001b[0;34m:\u001b[0m\u001b[0;34m\u001b[0m\u001b[0m\n\u001b[0;32m--> 531\u001b[0;31m         \u001b[0mserverEndpoint\u001b[0m \u001b[0;34m=\u001b[0m \u001b[0mcheckTikaServer\u001b[0m\u001b[0;34m(\u001b[0m\u001b[0mscheme\u001b[0m\u001b[0;34m,\u001b[0m \u001b[0mserverHost\u001b[0m\u001b[0;34m,\u001b[0m \u001b[0mport\u001b[0m\u001b[0;34m,\u001b[0m \u001b[0mtikaServerJar\u001b[0m\u001b[0;34m,\u001b[0m \u001b[0mclasspath\u001b[0m\u001b[0;34m,\u001b[0m \u001b[0mconfig_path\u001b[0m\u001b[0;34m)\u001b[0m\u001b[0;34m\u001b[0m\u001b[0m\n\u001b[0m\u001b[1;32m    532\u001b[0m \u001b[0;34m\u001b[0m\u001b[0m\n\u001b[1;32m    533\u001b[0m     \u001b[0mserviceUrl\u001b[0m  \u001b[0;34m=\u001b[0m \u001b[0mserverEndpoint\u001b[0m \u001b[0;34m+\u001b[0m \u001b[0mservice\u001b[0m\u001b[0;34m\u001b[0m\u001b[0m\n",
      "\u001b[0;32m~/.pyenv/versions/anaconda3-5.3.1/lib/python3.7/site-packages/tika/tika.py\u001b[0m in \u001b[0;36mcheckTikaServer\u001b[0;34m(scheme, serverHost, port, tikaServerJar, classpath, config_path)\u001b[0m\n\u001b[1;32m    590\u001b[0m         \u001b[0;32mif\u001b[0m \u001b[0;32mnot\u001b[0m \u001b[0malreadyRunning\u001b[0m\u001b[0;34m:\u001b[0m\u001b[0;34m\u001b[0m\u001b[0m\n\u001b[1;32m    591\u001b[0m             \u001b[0;32mif\u001b[0m \u001b[0;32mnot\u001b[0m \u001b[0mos\u001b[0m\u001b[0;34m.\u001b[0m\u001b[0mpath\u001b[0m\u001b[0;34m.\u001b[0m\u001b[0misfile\u001b[0m\u001b[0;34m(\u001b[0m\u001b[0mjarPath\u001b[0m\u001b[0;34m)\u001b[0m \u001b[0;32mand\u001b[0m \u001b[0murlp\u001b[0m\u001b[0;34m.\u001b[0m\u001b[0mscheme\u001b[0m \u001b[0;34m!=\u001b[0m \u001b[0;34m''\u001b[0m\u001b[0;34m:\u001b[0m\u001b[0;34m\u001b[0m\u001b[0m\n\u001b[0;32m--> 592\u001b[0;31m                 \u001b[0mgetRemoteJar\u001b[0m\u001b[0;34m(\u001b[0m\u001b[0mtikaServerJar\u001b[0m\u001b[0;34m,\u001b[0m \u001b[0mjarPath\u001b[0m\u001b[0;34m)\u001b[0m\u001b[0;34m\u001b[0m\u001b[0m\n\u001b[0m\u001b[1;32m    593\u001b[0m \u001b[0;34m\u001b[0m\u001b[0m\n\u001b[1;32m    594\u001b[0m             \u001b[0;32mif\u001b[0m \u001b[0;32mnot\u001b[0m \u001b[0mcheckJarSig\u001b[0m\u001b[0;34m(\u001b[0m\u001b[0mtikaServerJar\u001b[0m\u001b[0;34m,\u001b[0m \u001b[0mjarPath\u001b[0m\u001b[0;34m)\u001b[0m\u001b[0;34m:\u001b[0m\u001b[0;34m\u001b[0m\u001b[0m\n",
      "\u001b[0;32m~/.pyenv/versions/anaconda3-5.3.1/lib/python3.7/site-packages/tika/tika.py\u001b[0m in \u001b[0;36mgetRemoteJar\u001b[0;34m(urlOrPath, destPath)\u001b[0m\n\u001b[1;32m    796\u001b[0m         \u001b[0mlog\u001b[0m\u001b[0;34m.\u001b[0m\u001b[0minfo\u001b[0m\u001b[0;34m(\u001b[0m\u001b[0;34m'Retrieving %s to %s.'\u001b[0m \u001b[0;34m%\u001b[0m \u001b[0;34m(\u001b[0m\u001b[0murlOrPath\u001b[0m\u001b[0;34m,\u001b[0m \u001b[0mdestPath\u001b[0m\u001b[0;34m)\u001b[0m\u001b[0;34m)\u001b[0m\u001b[0;34m\u001b[0m\u001b[0m\n\u001b[1;32m    797\u001b[0m         \u001b[0;32mtry\u001b[0m\u001b[0;34m:\u001b[0m\u001b[0;34m\u001b[0m\u001b[0m\n\u001b[0;32m--> 798\u001b[0;31m             \u001b[0murlretrieve\u001b[0m\u001b[0;34m(\u001b[0m\u001b[0murlOrPath\u001b[0m\u001b[0;34m,\u001b[0m \u001b[0mdestPath\u001b[0m\u001b[0;34m)\u001b[0m\u001b[0;34m\u001b[0m\u001b[0m\n\u001b[0m\u001b[1;32m    799\u001b[0m         \u001b[0;32mexcept\u001b[0m \u001b[0mIOError\u001b[0m\u001b[0;34m:\u001b[0m\u001b[0;34m\u001b[0m\u001b[0m\n\u001b[1;32m    800\u001b[0m             \u001b[0;31m# monkey patch fix for SSL/Windows per Tika-Python #54\u001b[0m\u001b[0;34m\u001b[0m\u001b[0;34m\u001b[0m\u001b[0m\n",
      "\u001b[0;32m~/.pyenv/versions/anaconda3-5.3.1/lib/python3.7/urllib/request.py\u001b[0m in \u001b[0;36murlretrieve\u001b[0;34m(url, filename, reporthook, data)\u001b[0m\n\u001b[1;32m    274\u001b[0m \u001b[0;34m\u001b[0m\u001b[0m\n\u001b[1;32m    275\u001b[0m             \u001b[0;32mwhile\u001b[0m \u001b[0;32mTrue\u001b[0m\u001b[0;34m:\u001b[0m\u001b[0;34m\u001b[0m\u001b[0m\n\u001b[0;32m--> 276\u001b[0;31m                 \u001b[0mblock\u001b[0m \u001b[0;34m=\u001b[0m \u001b[0mfp\u001b[0m\u001b[0;34m.\u001b[0m\u001b[0mread\u001b[0m\u001b[0;34m(\u001b[0m\u001b[0mbs\u001b[0m\u001b[0;34m)\u001b[0m\u001b[0;34m\u001b[0m\u001b[0m\n\u001b[0m\u001b[1;32m    277\u001b[0m                 \u001b[0;32mif\u001b[0m \u001b[0;32mnot\u001b[0m \u001b[0mblock\u001b[0m\u001b[0;34m:\u001b[0m\u001b[0;34m\u001b[0m\u001b[0m\n\u001b[1;32m    278\u001b[0m                     \u001b[0;32mbreak\u001b[0m\u001b[0;34m\u001b[0m\u001b[0m\n",
      "\u001b[0;32m~/.pyenv/versions/anaconda3-5.3.1/lib/python3.7/http/client.py\u001b[0m in \u001b[0;36mread\u001b[0;34m(self, amt)\u001b[0m\n\u001b[1;32m    445\u001b[0m             \u001b[0;31m# Amount is given, implement using readinto\u001b[0m\u001b[0;34m\u001b[0m\u001b[0;34m\u001b[0m\u001b[0m\n\u001b[1;32m    446\u001b[0m             \u001b[0mb\u001b[0m \u001b[0;34m=\u001b[0m \u001b[0mbytearray\u001b[0m\u001b[0;34m(\u001b[0m\u001b[0mamt\u001b[0m\u001b[0;34m)\u001b[0m\u001b[0;34m\u001b[0m\u001b[0m\n\u001b[0;32m--> 447\u001b[0;31m             \u001b[0mn\u001b[0m \u001b[0;34m=\u001b[0m \u001b[0mself\u001b[0m\u001b[0;34m.\u001b[0m\u001b[0mreadinto\u001b[0m\u001b[0;34m(\u001b[0m\u001b[0mb\u001b[0m\u001b[0;34m)\u001b[0m\u001b[0;34m\u001b[0m\u001b[0m\n\u001b[0m\u001b[1;32m    448\u001b[0m             \u001b[0;32mreturn\u001b[0m \u001b[0mmemoryview\u001b[0m\u001b[0;34m(\u001b[0m\u001b[0mb\u001b[0m\u001b[0;34m)\u001b[0m\u001b[0;34m[\u001b[0m\u001b[0;34m:\u001b[0m\u001b[0mn\u001b[0m\u001b[0;34m]\u001b[0m\u001b[0;34m.\u001b[0m\u001b[0mtobytes\u001b[0m\u001b[0;34m(\u001b[0m\u001b[0;34m)\u001b[0m\u001b[0;34m\u001b[0m\u001b[0m\n\u001b[1;32m    449\u001b[0m         \u001b[0;32melse\u001b[0m\u001b[0;34m:\u001b[0m\u001b[0;34m\u001b[0m\u001b[0m\n",
      "\u001b[0;32m~/.pyenv/versions/anaconda3-5.3.1/lib/python3.7/http/client.py\u001b[0m in \u001b[0;36mreadinto\u001b[0;34m(self, b)\u001b[0m\n\u001b[1;32m    489\u001b[0m         \u001b[0;31m# connection, and the user is reading more bytes than will be provided\u001b[0m\u001b[0;34m\u001b[0m\u001b[0;34m\u001b[0m\u001b[0m\n\u001b[1;32m    490\u001b[0m         \u001b[0;31m# (for example, reading in 1k chunks)\u001b[0m\u001b[0;34m\u001b[0m\u001b[0;34m\u001b[0m\u001b[0m\n\u001b[0;32m--> 491\u001b[0;31m         \u001b[0mn\u001b[0m \u001b[0;34m=\u001b[0m \u001b[0mself\u001b[0m\u001b[0;34m.\u001b[0m\u001b[0mfp\u001b[0m\u001b[0;34m.\u001b[0m\u001b[0mreadinto\u001b[0m\u001b[0;34m(\u001b[0m\u001b[0mb\u001b[0m\u001b[0;34m)\u001b[0m\u001b[0;34m\u001b[0m\u001b[0m\n\u001b[0m\u001b[1;32m    492\u001b[0m         \u001b[0;32mif\u001b[0m \u001b[0;32mnot\u001b[0m \u001b[0mn\u001b[0m \u001b[0;32mand\u001b[0m \u001b[0mb\u001b[0m\u001b[0;34m:\u001b[0m\u001b[0;34m\u001b[0m\u001b[0m\n\u001b[1;32m    493\u001b[0m             \u001b[0;31m# Ideally, we would raise IncompleteRead if the content-length\u001b[0m\u001b[0;34m\u001b[0m\u001b[0;34m\u001b[0m\u001b[0m\n",
      "\u001b[0;32m~/.pyenv/versions/anaconda3-5.3.1/lib/python3.7/socket.py\u001b[0m in \u001b[0;36mreadinto\u001b[0;34m(self, b)\u001b[0m\n\u001b[1;32m    587\u001b[0m         \u001b[0;32mwhile\u001b[0m \u001b[0;32mTrue\u001b[0m\u001b[0;34m:\u001b[0m\u001b[0;34m\u001b[0m\u001b[0m\n\u001b[1;32m    588\u001b[0m             \u001b[0;32mtry\u001b[0m\u001b[0;34m:\u001b[0m\u001b[0;34m\u001b[0m\u001b[0m\n\u001b[0;32m--> 589\u001b[0;31m                 \u001b[0;32mreturn\u001b[0m \u001b[0mself\u001b[0m\u001b[0;34m.\u001b[0m\u001b[0m_sock\u001b[0m\u001b[0;34m.\u001b[0m\u001b[0mrecv_into\u001b[0m\u001b[0;34m(\u001b[0m\u001b[0mb\u001b[0m\u001b[0;34m)\u001b[0m\u001b[0;34m\u001b[0m\u001b[0m\n\u001b[0m\u001b[1;32m    590\u001b[0m             \u001b[0;32mexcept\u001b[0m \u001b[0mtimeout\u001b[0m\u001b[0;34m:\u001b[0m\u001b[0;34m\u001b[0m\u001b[0m\n\u001b[1;32m    591\u001b[0m                 \u001b[0mself\u001b[0m\u001b[0;34m.\u001b[0m\u001b[0m_timeout_occurred\u001b[0m \u001b[0;34m=\u001b[0m \u001b[0;32mTrue\u001b[0m\u001b[0;34m\u001b[0m\u001b[0m\n",
      "\u001b[0;32m~/.pyenv/versions/anaconda3-5.3.1/lib/python3.7/ssl.py\u001b[0m in \u001b[0;36mrecv_into\u001b[0;34m(self, buffer, nbytes, flags)\u001b[0m\n\u001b[1;32m   1047\u001b[0m                   \u001b[0;34m\"non-zero flags not allowed in calls to recv_into() on %s\"\u001b[0m \u001b[0;34m%\u001b[0m\u001b[0;34m\u001b[0m\u001b[0m\n\u001b[1;32m   1048\u001b[0m                   self.__class__)\n\u001b[0;32m-> 1049\u001b[0;31m             \u001b[0;32mreturn\u001b[0m \u001b[0mself\u001b[0m\u001b[0;34m.\u001b[0m\u001b[0mread\u001b[0m\u001b[0;34m(\u001b[0m\u001b[0mnbytes\u001b[0m\u001b[0;34m,\u001b[0m \u001b[0mbuffer\u001b[0m\u001b[0;34m)\u001b[0m\u001b[0;34m\u001b[0m\u001b[0m\n\u001b[0m\u001b[1;32m   1050\u001b[0m         \u001b[0;32melse\u001b[0m\u001b[0;34m:\u001b[0m\u001b[0;34m\u001b[0m\u001b[0m\n\u001b[1;32m   1051\u001b[0m             \u001b[0;32mreturn\u001b[0m \u001b[0msuper\u001b[0m\u001b[0;34m(\u001b[0m\u001b[0;34m)\u001b[0m\u001b[0;34m.\u001b[0m\u001b[0mrecv_into\u001b[0m\u001b[0;34m(\u001b[0m\u001b[0mbuffer\u001b[0m\u001b[0;34m,\u001b[0m \u001b[0mnbytes\u001b[0m\u001b[0;34m,\u001b[0m \u001b[0mflags\u001b[0m\u001b[0;34m)\u001b[0m\u001b[0;34m\u001b[0m\u001b[0m\n",
      "\u001b[0;32m~/.pyenv/versions/anaconda3-5.3.1/lib/python3.7/ssl.py\u001b[0m in \u001b[0;36mread\u001b[0;34m(self, len, buffer)\u001b[0m\n\u001b[1;32m    906\u001b[0m         \u001b[0;32mtry\u001b[0m\u001b[0;34m:\u001b[0m\u001b[0;34m\u001b[0m\u001b[0m\n\u001b[1;32m    907\u001b[0m             \u001b[0;32mif\u001b[0m \u001b[0mbuffer\u001b[0m \u001b[0;32mis\u001b[0m \u001b[0;32mnot\u001b[0m \u001b[0;32mNone\u001b[0m\u001b[0;34m:\u001b[0m\u001b[0;34m\u001b[0m\u001b[0m\n\u001b[0;32m--> 908\u001b[0;31m                 \u001b[0;32mreturn\u001b[0m \u001b[0mself\u001b[0m\u001b[0;34m.\u001b[0m\u001b[0m_sslobj\u001b[0m\u001b[0;34m.\u001b[0m\u001b[0mread\u001b[0m\u001b[0;34m(\u001b[0m\u001b[0mlen\u001b[0m\u001b[0;34m,\u001b[0m \u001b[0mbuffer\u001b[0m\u001b[0;34m)\u001b[0m\u001b[0;34m\u001b[0m\u001b[0m\n\u001b[0m\u001b[1;32m    909\u001b[0m             \u001b[0;32melse\u001b[0m\u001b[0;34m:\u001b[0m\u001b[0;34m\u001b[0m\u001b[0m\n\u001b[1;32m    910\u001b[0m                 \u001b[0;32mreturn\u001b[0m \u001b[0mself\u001b[0m\u001b[0;34m.\u001b[0m\u001b[0m_sslobj\u001b[0m\u001b[0;34m.\u001b[0m\u001b[0mread\u001b[0m\u001b[0;34m(\u001b[0m\u001b[0mlen\u001b[0m\u001b[0;34m)\u001b[0m\u001b[0;34m\u001b[0m\u001b[0m\n",
      "\u001b[0;31mKeyboardInterrupt\u001b[0m: "
     ]
    }
   ],
   "source": [
    "raw = parser.from_file('./pdf/' + filename)\n",
    "print(raw['content'])"
   ]
  },
  {
   "cell_type": "code",
   "execution_count": null,
   "metadata": {},
   "outputs": [],
   "source": []
  },
  {
   "cell_type": "markdown",
   "metadata": {},
   "source": [
    "## 3. pypdf 사용 텍스트 추출"
   ]
  },
  {
   "cell_type": "code",
   "execution_count": 19,
   "metadata": {},
   "outputs": [],
   "source": [
    "reader = pypdf.PdfReader('./pdf/' + filename)"
   ]
  },
  {
   "cell_type": "code",
   "execution_count": 20,
   "metadata": {},
   "outputs": [
    {
     "data": {
      "text/plain": [
       "{'/Author': '이수연',\n",
       " '/Creator': 'Microsoft® Word 2016',\n",
       " '/CreationDate': \"D:20221228080427+09'00'\",\n",
       " '/ModDate': \"D:20221228080427+09'00'\",\n",
       " '/Producer': 'Microsoft® Word 2016'}"
      ]
     },
     "execution_count": 20,
     "metadata": {},
     "output_type": "execute_result"
    }
   ],
   "source": [
    "reader.metadata"
   ]
  },
  {
   "cell_type": "code",
   "execution_count": 21,
   "metadata": {},
   "outputs": [
    {
     "data": {
      "text/plain": [
       "2"
      ]
     },
     "execution_count": 21,
     "metadata": {},
     "output_type": "execute_result"
    }
   ],
   "source": [
    "# total number of pages\n",
    "len(reader.pages)"
   ]
  },
  {
   "cell_type": "code",
   "execution_count": 22,
   "metadata": {},
   "outputs": [
    {
     "name": "stdout",
     "output_type": "stream",
     "text": [
      "자료 출처: 연합인포맥스 , Refinitiv,  유진투자증권  \n",
      "본 자료는 참고용 자료일 뿐이고, 특정주식에  대한 투자목적으로  작성된 것이 아닙니다 . 본 자료는 담당자가  신뢰할 만하다고  판단하는  자료나 정보에 근거하여  작성되었지만 , 그 정확성이나 완전성을  보장할 수는 없습니다 . 따라서 본 자료를 참고한 고객의 투자의사  결정은 고객 자신의 판단과 책임아래  이루어져야 하고, 당사는 본 자료의 내용에 의존하여  행하여진  일체의 투자행위의   \n",
      "결과에 대하여 책임을 지지 않을 것임을 밝힙니다 . 아울러 본 자료는 당사 고객에게만  제공되는  자료로서  당사의 동의 없이 본 자료를 무단으로  복제/전송/인용/배포하는  행위는 법으로 금지되어 있습니다  \n",
      "  \n",
      " Eugene’s FICC  Update  (2022.12.28) \n",
      "Fixed Income  김지나_ 02)368 -6149 _ jnkim0526 @eugenefn.com   Economist  이정훈_ 02)368 -6176 _ jhoonlee @eugenefn.com     \n",
      " \n",
      "Fixed Income  (단위: %,bp, 틱)  외국인  3년 국채선물 (KTB) 수급  외국인  10년 국채선물 (LKTB)  수급 \n",
      "  12/27일 1D 1W YTD \n",
      "국내\n",
      "채권 한국 국고채  3년물 3.662%  -0.1 -2.3 186.4  \n",
      "한국 국고채  10년물 3.611%  -2.8 0.8 136.1  \n",
      "장단기금리차 (10년-3년,bp) -5.1 -2.4 -8.2 45.2 \n",
      "3년 국채 선물(KTB) 103.77  3.0 6.0 -534 \n",
      "10년 국채선물 (LKTB) 111.35  30.0 -5.0 -1293 \n",
      "해외\n",
      "채권 미국채  2년물 4.400%  8.5 14.7 367.4  \n",
      "미국채  10년물 3.845%  9.8 15.7 233.3  \n",
      "장단기금리차 (10년-2년,bp) -55.5 -56.8 -56.5 78.6 \n",
      "독일국채  10년물 2.382%  0.0 8.2 256.3  \n",
      "호주국채 10년물 3.834%  0.0 10.5 216.2  \n",
      "  \n",
      "  \n",
      "      \n",
      "일간 금리 등락 폭 & 커브  국내 채권시장  동향  전망 및 향후 주요 이벤트  \n",
      "  \n",
      " 국내 채권시장은 전일 약세에 대한 되돌림 영향에 전반\n",
      "적 강세 마감. \n",
      " 한은에서 발표한 12월 소비자동향조사(12/27일)에서 \n",
      "기대인플레이션이 3.8%로 반년 만에 3%대를 나타냈\n",
      "고, 기획재정부도 같은날 1.7조원의 바이백 시행. \n",
      " 단기 구간 호재에도 불구하고 3년 국채선물은 보합 수\n",
      "준에 머문 반면, 외국인 순매수 움직임에 10년 국채선\n",
      "물이 강세. \n",
      " 연말 얇은 유동성 하에서 외국인 수급에 따른 영향은 \n",
      "있겠지만, 대체적으로 관망세 이어질 전망.   미국 채권시장은 내년 연착륙 전망 및 연휴 휴장 영향\n",
      "으로 약세 마감. \n",
      " 지난주(12/23일) 발표된 11월 개인소비지출(PCE) 물\n",
      "가 지수가 완화되면서 인플레이션 경계심이 완화됨. \n",
      "내년 미국 경제가 침체를 피할 수 있을 것이라는 긍정\n",
      "적 전망이 주목 받으며 국채수익률 상승. \n",
      " 여기에 더해 내년 미 연준 금리 인상 기조 지속 전망\n",
      "에 국채수익률 상승폭 확대. \n",
      " 금일 미국 12월 리치몬드연은 제조업지수, 11월 잠정\n",
      "주택판매지수 등 발표 예정. -10-4281420\n",
      "100102104106108110112\n",
      "21.9 21.12 22.3 22.6 22.9 22.12(만계약 ) (p)KTB 국채선물가격 (좌)\n",
      "외국인 KTB 국채선물 누적순매수 (우)\n",
      "-2024681012\n",
      "102106110114118122126130\n",
      "21.9 21.12 22.3 22.6 22.9 22.12(만계약 ) (p)LKTB 국채선물가격 (좌)\n",
      "외국인 LKTB 국채선물 누적순매수 (우)\n",
      "-2.8 -0.1 1.0 \n",
      "-2.8 \n",
      "-3.4 -3.7 \n",
      "3.03.23.43.63.84.0\n",
      "-4-3-2-1012\n",
      "통안 2Y 3Y 5Y 10Y 20Y 30Y(%) (bp)등락폭(12/27 -12/26, 좌)\n",
      "12/27(우)\n",
      "12/26(우)\n"
     ]
    }
   ],
   "source": [
    "page = reader.pages[0]\n",
    "print(page.extract_text())"
   ]
  },
  {
   "cell_type": "code",
   "execution_count": 23,
   "metadata": {},
   "outputs": [
    {
     "name": "stdout",
     "output_type": "stream",
     "text": [
      " \n",
      "  \n",
      "     FX & Commodity  (단위: %, $)  원달러  환율 및 위안달러 환율 동향  원달러  환율 및 달러지수  동향 \n",
      "  12/27일 1D 1W YTD \n",
      "환율 원/달러 1,271.40  -0.3% -1.4% 6.9% \n",
      "달러지수  104.19  0.0% 0.1% 8.9% \n",
      "달러/유로 1.064  0.1% 0.2% -6.5% \n",
      "위안/달러(역외) 6.97  -0.1% 0.1% 9.5% \n",
      "엔/달러 133.56  0.5% 1.4% 16.0%  \n",
      "달러/파운드  1.203  -0.3% -1.2% -11.1%  \n",
      "헤알/달러 5.29  1.5% 1.7% -5.0% \n",
      "상품 WTI 근월물 ($) 79.87  0.4% 6.2% 6.2% \n",
      "금 현물($) 1,797.82  0.3% 0.3% -1.7% \n",
      "구리 3개월물 ($) 8,349.50  0.5% 1.0% -14.4%  \n",
      " 주: 구리가격은  2거래일  전 기준  \n",
      "  \n",
      " \n",
      "     \n",
      "원달러  환율 및 홍콩증시  동향  원달러  환율 동향  전망 및 관전 포인트  \n",
      "  \n",
      " 전일 원달러  환율은  -3.8원 하락한  1,271.00원에 마감. \n",
      " 중국 방역 조치 완화 발표로 위안화가 강세를 보이면서 \n",
      "원화도 동반 강세. 중국은 다음달 8일부터 해외 입국자\n",
      "에 대한 격리를 해제하기로 결정. 최근 중국 내 코로나 \n",
      "확산세가 급증하고 있지만 방역 조치 완화로 위험 선호 \n",
      "심리는 회복되고 있음. \n",
      " 위안화 강세와 함께 달러 하락. 연말 네고 물량 출회 속\n",
      "에 6월 중순 이후 처음으로 장중 1,270원을 하회.  \n",
      " 코스피는 +0.7% 상승했으며, 외국인은 국내 주식시장\n",
      "에서 1,500억 가량 순매수.   금일 새벽 달러 인덱스는 미국채 금리 급등 속 혼조세\n",
      "를 이어감. \n",
      " 연말을 맞아 거래가 부진한 가운데 관망 심리가 지배\n",
      "적. 전일 중국의 방역조치 완화에 위험선호 심리 회복\n",
      "되며 장중 103선 후반으로 반락했으나 간밤 미국채 \n",
      "금리가 +10bp 넘게 급등하면서 달러도 104선으로 반\n",
      "등. \n",
      " 미국 11월 무역적자는 -15.6% (M) 급감한 -833억 달\n",
      "러로, 2년 만의 최저 수준의 적자를 기록. 10월 S&P CS  \n",
      "전미주택가격은 -0.5%(M) 하락해 4개월 연속 하락. \n",
      "11월 댈러스 연은 제조업지수도 -18.8로 전월비 추가 \n",
      "하락했음. 6.26.46.66.87.07.27.47.6\n",
      "1,1501,2001,2501,3001,3501,4001,4501,500\n",
      "22.1 22.3 22.5 22.7 22.9 22.11(위안/달러) (원/달러) 원달러 (좌)\n",
      "위안달러 (우)\n",
      "9095100105110115120\n",
      "1,1501,2001,2501,3001,3501,4001,4501,500\n",
      "22.1 22.3 22.5 22.7 22.9 22.11(지수) (원/달러)\n",
      "원달러 (좌)\n",
      "달러지수 (우)\n",
      "12,000\n",
      "14,000\n",
      "16,000\n",
      "18,000\n",
      "20,000\n",
      "22,000\n",
      "24,000\n",
      "26,000 1,1501,2001,2501,3001,3501,4001,4501,500\n",
      "22.1 22.3 22.5 22.7 22.9 22.11(pt, 축반전 ) (원/달러)\n",
      "원달러 (좌)\n",
      "항셍지수 (우)\n"
     ]
    }
   ],
   "source": [
    "page = reader.pages[1]\n",
    "print(page.extract_text())"
   ]
  },
  {
   "cell_type": "code",
   "execution_count": 24,
   "metadata": {},
   "outputs": [],
   "source": [
    "text = ''"
   ]
  },
  {
   "cell_type": "code",
   "execution_count": 25,
   "metadata": {},
   "outputs": [],
   "source": [
    "for page in reader.pages:\n",
    "    text += page.extract_text()"
   ]
  },
  {
   "cell_type": "code",
   "execution_count": 27,
   "metadata": {},
   "outputs": [
    {
     "name": "stdout",
     "output_type": "stream",
     "text": [
      "자료 출처: 연합인포맥스 , Refinitiv,  유진투자증권  \n",
      "본 자료는 참고용 자료일 뿐이고, 특정주식에  대한 투자목적으로  작성된 것이 아닙니다 . 본 자료는 담당자가  신뢰할 만하다고  판단하는  자료나 정보에 근거하여  작성되었지만 , 그 정확성이나 완전성을  보장할 수는 없습니다 . 따라서 본 자료를 참고한 고객의 투자의사  결정은 고객 자신의 판단과 책임아래  이루어져야 하고, 당사는 본 자료의 내용에 의존하여  행하여진  일체의 투자행위의   \n",
      "결과에 대하여 책임을 지지 않을 것임을 밝힙니다 . 아울러 본 자료는 당사 고객에게만  제공되는  자료로서  당사의 동의 없이 본 자료를 무단으로  복제/전송/인용/배포하는  행위는 법으로 금지되어 있습니다  \n",
      "  \n",
      " Eugene’s FICC  Update  (2022.12.28) \n",
      "Fixed Income  김지나_ 02)368 -6149 _ jnkim0526 @eugenefn.com   Economist  이정훈_ 02)368 -6176 _ jhoonlee @eugenefn.com     \n",
      " \n",
      "Fixed Income  (단위: %,bp, 틱)  외국인  3년 국채선물 (KTB) 수급  외국인  10년 국채선물 (LKTB)  수급 \n",
      "  12/27일 1D 1W YTD \n",
      "국내\n",
      "채권 한국 국고채  3년물 3.662%  -0.1 -2.3 186.4  \n",
      "한국 국고채  10년물 3.611%  -2.8 0.8 136.1  \n",
      "장단기금리차 (10년-3년,bp) -5.1 -2.4 -8.2 45.2 \n",
      "3년 국채 선물(KTB) 103.77  3.0 6.0 -534 \n",
      "10년 국채선물 (LKTB) 111.35  30.0 -5.0 -1293 \n",
      "해외\n",
      "채권 미국채  2년물 4.400%  8.5 14.7 367.4  \n",
      "미국채  10년물 3.845%  9.8 15.7 233.3  \n",
      "장단기금리차 (10년-2년,bp) -55.5 -56.8 -56.5 78.6 \n",
      "독일국채  10년물 2.382%  0.0 8.2 256.3  \n",
      "호주국채 10년물 3.834%  0.0 10.5 216.2  \n",
      "  \n",
      "  \n",
      "      \n",
      "일간 금리 등락 폭 & 커브  국내 채권시장  동향  전망 및 향후 주요 이벤트  \n",
      "  \n",
      " 국내 채권시장은 전일 약세에 대한 되돌림 영향에 전반\n",
      "적 강세 마감. \n",
      " 한은에서 발표한 12월 소비자동향조사(12/27일)에서 \n",
      "기대인플레이션이 3.8%로 반년 만에 3%대를 나타냈\n",
      "고, 기획재정부도 같은날 1.7조원의 바이백 시행. \n",
      " 단기 구간 호재에도 불구하고 3년 국채선물은 보합 수\n",
      "준에 머문 반면, 외국인 순매수 움직임에 10년 국채선\n",
      "물이 강세. \n",
      " 연말 얇은 유동성 하에서 외국인 수급에 따른 영향은 \n",
      "있겠지만, 대체적으로 관망세 이어질 전망.   미국 채권시장은 내년 연착륙 전망 및 연휴 휴장 영향\n",
      "으로 약세 마감. \n",
      " 지난주(12/23일) 발표된 11월 개인소비지출(PCE) 물\n",
      "가 지수가 완화되면서 인플레이션 경계심이 완화됨. \n",
      "내년 미국 경제가 침체를 피할 수 있을 것이라는 긍정\n",
      "적 전망이 주목 받으며 국채수익률 상승. \n",
      " 여기에 더해 내년 미 연준 금리 인상 기조 지속 전망\n",
      "에 국채수익률 상승폭 확대. \n",
      " 금일 미국 12월 리치몬드연은 제조업지수, 11월 잠정\n",
      "주택판매지수 등 발표 예정. -10-4281420\n",
      "100102104106108110112\n",
      "21.9 21.12 22.3 22.6 22.9 22.12(만계약 ) (p)KTB 국채선물가격 (좌)\n",
      "외국인 KTB 국채선물 누적순매수 (우)\n",
      "-2024681012\n",
      "102106110114118122126130\n",
      "21.9 21.12 22.3 22.6 22.9 22.12(만계약 ) (p)LKTB 국채선물가격 (좌)\n",
      "외국인 LKTB 국채선물 누적순매수 (우)\n",
      "-2.8 -0.1 1.0 \n",
      "-2.8 \n",
      "-3.4 -3.7 \n",
      "3.03.23.43.63.84.0\n",
      "-4-3-2-1012\n",
      "통안 2Y 3Y 5Y 10Y 20Y 30Y(%) (bp)등락폭(12/27 -12/26, 좌)\n",
      "12/27(우)\n",
      "12/26(우) \n",
      "  \n",
      "     FX & Commodity  (단위: %, $)  원달러  환율 및 위안달러 환율 동향  원달러  환율 및 달러지수  동향 \n",
      "  12/27일 1D 1W YTD \n",
      "환율 원/달러 1,271.40  -0.3% -1.4% 6.9% \n",
      "달러지수  104.19  0.0% 0.1% 8.9% \n",
      "달러/유로 1.064  0.1% 0.2% -6.5% \n",
      "위안/달러(역외) 6.97  -0.1% 0.1% 9.5% \n",
      "엔/달러 133.56  0.5% 1.4% 16.0%  \n",
      "달러/파운드  1.203  -0.3% -1.2% -11.1%  \n",
      "헤알/달러 5.29  1.5% 1.7% -5.0% \n",
      "상품 WTI 근월물 ($) 79.87  0.4% 6.2% 6.2% \n",
      "금 현물($) 1,797.82  0.3% 0.3% -1.7% \n",
      "구리 3개월물 ($) 8,349.50  0.5% 1.0% -14.4%  \n",
      " 주: 구리가격은  2거래일  전 기준  \n",
      "  \n",
      " \n",
      "     \n",
      "원달러  환율 및 홍콩증시  동향  원달러  환율 동향  전망 및 관전 포인트  \n",
      "  \n",
      " 전일 원달러  환율은  -3.8원 하락한  1,271.00원에 마감. \n",
      " 중국 방역 조치 완화 발표로 위안화가 강세를 보이면서 \n",
      "원화도 동반 강세. 중국은 다음달 8일부터 해외 입국자\n",
      "에 대한 격리를 해제하기로 결정. 최근 중국 내 코로나 \n",
      "확산세가 급증하고 있지만 방역 조치 완화로 위험 선호 \n",
      "심리는 회복되고 있음. \n",
      " 위안화 강세와 함께 달러 하락. 연말 네고 물량 출회 속\n",
      "에 6월 중순 이후 처음으로 장중 1,270원을 하회.  \n",
      " 코스피는 +0.7% 상승했으며, 외국인은 국내 주식시장\n",
      "에서 1,500억 가량 순매수.   금일 새벽 달러 인덱스는 미국채 금리 급등 속 혼조세\n",
      "를 이어감. \n",
      " 연말을 맞아 거래가 부진한 가운데 관망 심리가 지배\n",
      "적. 전일 중국의 방역조치 완화에 위험선호 심리 회복\n",
      "되며 장중 103선 후반으로 반락했으나 간밤 미국채 \n",
      "금리가 +10bp 넘게 급등하면서 달러도 104선으로 반\n",
      "등. \n",
      " 미국 11월 무역적자는 -15.6% (M) 급감한 -833억 달\n",
      "러로, 2년 만의 최저 수준의 적자를 기록. 10월 S&P CS  \n",
      "전미주택가격은 -0.5%(M) 하락해 4개월 연속 하락. \n",
      "11월 댈러스 연은 제조업지수도 -18.8로 전월비 추가 \n",
      "하락했음. 6.26.46.66.87.07.27.47.6\n",
      "1,1501,2001,2501,3001,3501,4001,4501,500\n",
      "22.1 22.3 22.5 22.7 22.9 22.11(위안/달러) (원/달러) 원달러 (좌)\n",
      "위안달러 (우)\n",
      "9095100105110115120\n",
      "1,1501,2001,2501,3001,3501,4001,4501,500\n",
      "22.1 22.3 22.5 22.7 22.9 22.11(지수) (원/달러)\n",
      "원달러 (좌)\n",
      "달러지수 (우)\n",
      "12,000\n",
      "14,000\n",
      "16,000\n",
      "18,000\n",
      "20,000\n",
      "22,000\n",
      "24,000\n",
      "26,000 1,1501,2001,2501,3001,3501,4001,4501,500\n",
      "22.1 22.3 22.5 22.7 22.9 22.11(pt, 축반전 ) (원/달러)\n",
      "원달러 (좌)\n",
      "항셍지수 (우)\n"
     ]
    }
   ],
   "source": [
    "print(text)"
   ]
  },
  {
   "cell_type": "markdown",
   "metadata": {},
   "source": [
    "## 4. pdfium 사용"
   ]
  },
  {
   "cell_type": "code",
   "execution_count": 45,
   "metadata": {},
   "outputs": [],
   "source": [
    "pdf = pdfium.PdfDocument(\"./pdf/\" + filename)\n",
    "version = pdf.get_version()  # get the PDF standard version\n",
    "n_pages = len(pdf)  # get the number of pages in the document"
   ]
  },
  {
   "cell_type": "code",
   "execution_count": 46,
   "metadata": {},
   "outputs": [
    {
     "name": "stdout",
     "output_type": "stream",
     "text": [
      "15\n"
     ]
    }
   ],
   "source": [
    "print(version)"
   ]
  },
  {
   "cell_type": "code",
   "execution_count": 47,
   "metadata": {},
   "outputs": [
    {
     "name": "stdout",
     "output_type": "stream",
     "text": [
      "2\n"
     ]
    }
   ],
   "source": [
    "print(n_pages)"
   ]
  },
  {
   "cell_type": "code",
   "execution_count": 48,
   "metadata": {},
   "outputs": [
    {
     "data": {
      "text/plain": [
       "<pypdfium2._pypdfium.LP_struct_fpdf_document_t__ at 0x7faff4283d08>"
      ]
     },
     "execution_count": 48,
     "metadata": {},
     "output_type": "execute_result"
    }
   ],
   "source": [
    "pdf.raw"
   ]
  },
  {
   "cell_type": "code",
   "execution_count": null,
   "metadata": {},
   "outputs": [],
   "source": []
  }
 ],
 "metadata": {
  "kernelspec": {
   "display_name": "Python 3",
   "language": "python",
   "name": "python3"
  },
  "language_info": {
   "codemirror_mode": {
    "name": "ipython",
    "version": 3
   },
   "file_extension": ".py",
   "mimetype": "text/x-python",
   "name": "python",
   "nbconvert_exporter": "python",
   "pygments_lexer": "ipython3",
   "version": "3.7.0"
  }
 },
 "nbformat": 4,
 "nbformat_minor": 2
}
